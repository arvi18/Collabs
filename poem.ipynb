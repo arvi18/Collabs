{
  "cells": [
    {
      "cell_type": "code",
      "execution_count": 37,
      "metadata": {
        "colab": {
          "base_uri": "https://localhost:8080/"
        },
        "id": "k0cMp8PSXT0U",
        "outputId": "6ad9ce41-38d2-4f99-df6e-430ebcff0577"
      },
      "outputs": [
        {
          "output_type": "stream",
          "name": "stdout",
          "text": [
            "Looking in indexes: https://pypi.org/simple, https://us-python.pkg.dev/colab-wheels/public/simple/\n",
            "Requirement already satisfied: fastai in /usr/local/lib/python3.7/dist-packages (2.7.10)\n",
            "Requirement already satisfied: scikit-learn in /usr/local/lib/python3.7/dist-packages (from fastai) (1.0.2)\n",
            "Requirement already satisfied: pandas in /usr/local/lib/python3.7/dist-packages (from fastai) (1.3.5)\n",
            "Requirement already satisfied: pillow>6.0.0 in /usr/local/lib/python3.7/dist-packages (from fastai) (7.1.2)\n",
            "Requirement already satisfied: spacy<4 in /usr/local/lib/python3.7/dist-packages (from fastai) (3.4.3)\n",
            "Requirement already satisfied: packaging in /usr/local/lib/python3.7/dist-packages (from fastai) (21.3)\n",
            "Requirement already satisfied: matplotlib in /usr/local/lib/python3.7/dist-packages (from fastai) (3.2.2)\n",
            "Requirement already satisfied: scipy in /usr/local/lib/python3.7/dist-packages (from fastai) (1.7.3)\n",
            "Requirement already satisfied: fastprogress>=0.2.4 in /usr/local/lib/python3.7/dist-packages (from fastai) (1.0.3)\n",
            "Requirement already satisfied: torchvision>=0.8.2 in /usr/local/lib/python3.7/dist-packages (from fastai) (0.13.1+cu113)\n",
            "Requirement already satisfied: torch<1.14,>=1.7 in /usr/local/lib/python3.7/dist-packages (from fastai) (1.12.1+cu113)\n",
            "Requirement already satisfied: pip in /usr/local/lib/python3.7/dist-packages (from fastai) (21.1.3)\n",
            "Requirement already satisfied: fastcore<1.6,>=1.4.5 in /usr/local/lib/python3.7/dist-packages (from fastai) (1.5.27)\n",
            "Requirement already satisfied: requests in /usr/local/lib/python3.7/dist-packages (from fastai) (2.23.0)\n",
            "Requirement already satisfied: pyyaml in /usr/local/lib/python3.7/dist-packages (from fastai) (6.0)\n",
            "Requirement already satisfied: fastdownload<2,>=0.0.5 in /usr/local/lib/python3.7/dist-packages (from fastai) (0.0.7)\n",
            "Requirement already satisfied: pathy>=0.3.5 in /usr/local/lib/python3.7/dist-packages (from spacy<4->fastai) (0.8.1)\n",
            "Requirement already satisfied: catalogue<2.1.0,>=2.0.6 in /usr/local/lib/python3.7/dist-packages (from spacy<4->fastai) (2.0.8)\n",
            "Requirement already satisfied: srsly<3.0.0,>=2.4.3 in /usr/local/lib/python3.7/dist-packages (from spacy<4->fastai) (2.4.5)\n",
            "Requirement already satisfied: wasabi<1.1.0,>=0.9.1 in /usr/local/lib/python3.7/dist-packages (from spacy<4->fastai) (0.10.1)\n",
            "Requirement already satisfied: jinja2 in /usr/local/lib/python3.7/dist-packages (from spacy<4->fastai) (2.11.3)\n",
            "Requirement already satisfied: typing-extensions<4.2.0,>=3.7.4 in /usr/local/lib/python3.7/dist-packages (from spacy<4->fastai) (4.1.1)\n",
            "Requirement already satisfied: tqdm<5.0.0,>=4.38.0 in /usr/local/lib/python3.7/dist-packages (from spacy<4->fastai) (4.64.1)\n",
            "Requirement already satisfied: cymem<2.1.0,>=2.0.2 in /usr/local/lib/python3.7/dist-packages (from spacy<4->fastai) (2.0.7)\n",
            "Requirement already satisfied: numpy>=1.15.0 in /usr/local/lib/python3.7/dist-packages (from spacy<4->fastai) (1.21.6)\n",
            "Requirement already satisfied: spacy-legacy<3.1.0,>=3.0.10 in /usr/local/lib/python3.7/dist-packages (from spacy<4->fastai) (3.0.10)\n",
            "Requirement already satisfied: langcodes<4.0.0,>=3.2.0 in /usr/local/lib/python3.7/dist-packages (from spacy<4->fastai) (3.3.0)\n",
            "Requirement already satisfied: spacy-loggers<2.0.0,>=1.0.0 in /usr/local/lib/python3.7/dist-packages (from spacy<4->fastai) (1.0.3)\n",
            "Requirement already satisfied: preshed<3.1.0,>=3.0.2 in /usr/local/lib/python3.7/dist-packages (from spacy<4->fastai) (3.0.8)\n",
            "Requirement already satisfied: setuptools in /usr/local/lib/python3.7/dist-packages (from spacy<4->fastai) (57.4.0)\n",
            "Requirement already satisfied: typer<0.8.0,>=0.3.0 in /usr/local/lib/python3.7/dist-packages (from spacy<4->fastai) (0.7.0)\n",
            "Requirement already satisfied: pydantic!=1.8,!=1.8.1,<1.11.0,>=1.7.4 in /usr/local/lib/python3.7/dist-packages (from spacy<4->fastai) (1.10.2)\n",
            "Requirement already satisfied: thinc<8.2.0,>=8.1.0 in /usr/local/lib/python3.7/dist-packages (from spacy<4->fastai) (8.1.5)\n",
            "Requirement already satisfied: murmurhash<1.1.0,>=0.28.0 in /usr/local/lib/python3.7/dist-packages (from spacy<4->fastai) (1.0.9)\n",
            "Requirement already satisfied: zipp>=0.5 in /usr/local/lib/python3.7/dist-packages (from catalogue<2.1.0,>=2.0.6->spacy<4->fastai) (3.10.0)\n",
            "Requirement already satisfied: pyparsing!=3.0.5,>=2.0.2 in /usr/local/lib/python3.7/dist-packages (from packaging->fastai) (3.0.9)\n",
            "Requirement already satisfied: smart-open<6.0.0,>=5.2.1 in /usr/local/lib/python3.7/dist-packages (from pathy>=0.3.5->spacy<4->fastai) (5.2.1)\n",
            "Requirement already satisfied: urllib3!=1.25.0,!=1.25.1,<1.26,>=1.21.1 in /usr/local/lib/python3.7/dist-packages (from requests->fastai) (1.24.3)\n",
            "Requirement already satisfied: chardet<4,>=3.0.2 in /usr/local/lib/python3.7/dist-packages (from requests->fastai) (3.0.4)\n",
            "Requirement already satisfied: certifi>=2017.4.17 in /usr/local/lib/python3.7/dist-packages (from requests->fastai) (2022.9.24)\n",
            "Requirement already satisfied: idna<3,>=2.5 in /usr/local/lib/python3.7/dist-packages (from requests->fastai) (2.10)\n",
            "Requirement already satisfied: blis<0.8.0,>=0.7.8 in /usr/local/lib/python3.7/dist-packages (from thinc<8.2.0,>=8.1.0->spacy<4->fastai) (0.7.9)\n",
            "Requirement already satisfied: confection<1.0.0,>=0.0.1 in /usr/local/lib/python3.7/dist-packages (from thinc<8.2.0,>=8.1.0->spacy<4->fastai) (0.0.3)\n",
            "Requirement already satisfied: click<9.0.0,>=7.1.1 in /usr/local/lib/python3.7/dist-packages (from typer<0.8.0,>=0.3.0->spacy<4->fastai) (7.1.2)\n",
            "Requirement already satisfied: MarkupSafe>=0.23 in /usr/local/lib/python3.7/dist-packages (from jinja2->spacy<4->fastai) (2.0.1)\n",
            "Requirement already satisfied: cycler>=0.10 in /usr/local/lib/python3.7/dist-packages (from matplotlib->fastai) (0.11.0)\n",
            "Requirement already satisfied: kiwisolver>=1.0.1 in /usr/local/lib/python3.7/dist-packages (from matplotlib->fastai) (1.4.4)\n",
            "Requirement already satisfied: python-dateutil>=2.1 in /usr/local/lib/python3.7/dist-packages (from matplotlib->fastai) (2.8.2)\n",
            "Requirement already satisfied: six>=1.5 in /usr/local/lib/python3.7/dist-packages (from python-dateutil>=2.1->matplotlib->fastai) (1.15.0)\n",
            "Requirement already satisfied: pytz>=2017.3 in /usr/local/lib/python3.7/dist-packages (from pandas->fastai) (2022.6)\n",
            "Requirement already satisfied: joblib>=0.11 in /usr/local/lib/python3.7/dist-packages (from scikit-learn->fastai) (1.2.0)\n",
            "Requirement already satisfied: threadpoolctl>=2.0.0 in /usr/local/lib/python3.7/dist-packages (from scikit-learn->fastai) (3.1.0)\n",
            "Looking in indexes: https://pypi.org/simple, https://us-python.pkg.dev/colab-wheels/public/simple/\n",
            "Requirement already satisfied: transformers in /usr/local/lib/python3.7/dist-packages (4.24.0)\n",
            "Requirement already satisfied: pyyaml>=5.1 in /usr/local/lib/python3.7/dist-packages (from transformers) (6.0)\n",
            "Requirement already satisfied: requests in /usr/local/lib/python3.7/dist-packages (from transformers) (2.23.0)\n",
            "Requirement already satisfied: tokenizers!=0.11.3,<0.14,>=0.11.1 in /usr/local/lib/python3.7/dist-packages (from transformers) (0.13.2)\n",
            "Requirement already satisfied: tqdm>=4.27 in /usr/local/lib/python3.7/dist-packages (from transformers) (4.64.1)\n",
            "Requirement already satisfied: numpy>=1.17 in /usr/local/lib/python3.7/dist-packages (from transformers) (1.21.6)\n",
            "Requirement already satisfied: huggingface-hub<1.0,>=0.10.0 in /usr/local/lib/python3.7/dist-packages (from transformers) (0.11.0)\n",
            "Requirement already satisfied: regex!=2019.12.17 in /usr/local/lib/python3.7/dist-packages (from transformers) (2022.6.2)\n",
            "Requirement already satisfied: filelock in /usr/local/lib/python3.7/dist-packages (from transformers) (3.8.0)\n",
            "Requirement already satisfied: importlib-metadata in /usr/local/lib/python3.7/dist-packages (from transformers) (4.13.0)\n",
            "Requirement already satisfied: packaging>=20.0 in /usr/local/lib/python3.7/dist-packages (from transformers) (21.3)\n",
            "Requirement already satisfied: typing-extensions>=3.7.4.3 in /usr/local/lib/python3.7/dist-packages (from huggingface-hub<1.0,>=0.10.0->transformers) (4.1.1)\n",
            "Requirement already satisfied: pyparsing!=3.0.5,>=2.0.2 in /usr/local/lib/python3.7/dist-packages (from packaging>=20.0->transformers) (3.0.9)\n",
            "Requirement already satisfied: zipp>=0.5 in /usr/local/lib/python3.7/dist-packages (from importlib-metadata->transformers) (3.10.0)\n",
            "Requirement already satisfied: certifi>=2017.4.17 in /usr/local/lib/python3.7/dist-packages (from requests->transformers) (2022.9.24)\n",
            "Requirement already satisfied: chardet<4,>=3.0.2 in /usr/local/lib/python3.7/dist-packages (from requests->transformers) (3.0.4)\n",
            "Requirement already satisfied: urllib3!=1.25.0,!=1.25.1,<1.26,>=1.21.1 in /usr/local/lib/python3.7/dist-packages (from requests->transformers) (1.24.3)\n",
            "Requirement already satisfied: idna<3,>=2.5 in /usr/local/lib/python3.7/dist-packages (from requests->transformers) (2.10)\n"
          ]
        }
      ],
      "source": [
        "!pip install fastai\n",
        "!pip install transformers"
      ]
    },
    {
      "cell_type": "code",
      "execution_count": 39,
      "metadata": {
        "id": "2QvWLwJeWuZ8"
      },
      "outputs": [],
      "source": [
        "from fastai.text.all import *\n",
        "from transformers import GPT2LMHeadModel, GPT2TokenizerFast"
      ]
    },
    {
      "cell_type": "code",
      "execution_count": 40,
      "metadata": {
        "id": "ZRI3i9fNWuaC"
      },
      "outputs": [],
      "source": [
        "pretrained_weights = 'gpt2'\n",
        "tokenizer = GPT2TokenizerFast.from_pretrained(pretrained_weights)\n",
        "model = GPT2LMHeadModel.from_pretrained(pretrained_weights)"
      ]
    },
    {
      "cell_type": "code",
      "execution_count": 43,
      "metadata": {
        "id": "JiVgeMXWWuaD",
        "colab": {
          "base_uri": "https://localhost:8080/"
        },
        "outputId": "64aeb3b5-2693-41c4-92e8-7a6242abdfa1"
      },
      "outputs": [
        {
          "output_type": "stream",
          "name": "stdout",
          "text": [
            "Drive already mounted at /content/drive; to attempt to forcibly remount, call drive.mount(\"/content/drive\", force_remount=True).\n",
            "ls: cannot access 'path': No such file or directory\n"
          ]
        }
      ],
      "source": [
        "# path = './poems'\n",
        "from google.colab import drive\n",
        "drive.mount('/content/drive')\n"
      ]
    },
    {
      "cell_type": "code",
      "source": [
        "path=\"drive/MyDrive/poem/poems\"\n",
        "!ls drive/MyDrive/poem/poems"
      ],
      "metadata": {
        "colab": {
          "base_uri": "https://localhost:8080/"
        },
        "id": "KzGBsFRFs9r_",
        "outputId": "13ab3420-7f5b-41fc-c0f0-44804cdecb25"
      },
      "execution_count": 47,
      "outputs": [
        {
          "output_type": "stream",
          "name": "stdout",
          "text": [
            "abc\t\t   decastich\t       octave\n",
            "abecedarian\t   didactic-poetry     ode\n",
            "acrostic\t   dirge\t       ottava-rima\n",
            "alexandrine\t   divino-sonetto      oulipo\n",
            "allegory\t   dizain\t       palindrome-or-mirror-poetry\n",
            "anacreontic\t   doggerel\t       palinode\n",
            "anagram\t\t   double-dactyl       panegyric\n",
            "anaphora\t   dramatic-monologue  pantoum\n",
            "arabian-sonnet\t   echo-verse\t       pastoral\n",
            "ars-poetica\t   eclogue\t       pindaric-ode\n",
            "aubade\t\t   ekphrastic\t       prose-poem\n",
            "balassi-stanza\t   elegy\t       qasida\n",
            "ballad\t\t   epic\t\t       quatern\n",
            "ballade\t\t   epigram\t       quatrain\n",
            "beymorlin-sonnet   epistle\t       refrain\n",
            "bio\t\t   epistrophe\t       renga\n",
            "blank-verse\t   epitaph\t       rhyme-royal-or-rime-royale\n",
            "blues-poem\t   epithalamion        rictameter\n",
            "blues-sonnet\t   found-poem\t       riddle\n",
            "bop\t\t   fourteener\t       rispetto\n",
            "bref-double\t   free-verse\t       rondeau\n",
            "brisbane-sonnet    ghazal\t       rondel-or-roundel\n",
            "bucolic\t\t   glosa\t       sapphic\n",
            "burlesque\t   haiku\t       senryu\n",
            "burns-stanza\t   heroic-couplet      sestet\n",
            "busta-sonetto\t   horatian-ode        sestina\n",
            "cacophony\t   hymn\t\t       shadorma\n",
            "canzone\t\t   iambic-pentameter   shi\n",
            "canzonetta\t   imagery\t       sijo\n",
            "carol\t\t   irregular-ode       slam\n",
            "carpe-diems\t   italian-sonnet      somonka\n",
            "cascade\t\t   kennings\t       sonnet\n",
            "catena-rondo\t   kyrielle\t       spenserian-stanza\n",
            "cavatina\t   lament\t       stanza\n",
            "cento\t\t   landays\t       syllabic-verse\n",
            "chain-verse\t   lay\t\t       tanka\n",
            "chance-operations  light-verse\t       tercet\n",
            "choka\t\t   limerick\t       terza-rima\n",
            "cinquain\t   lyric\t       tetractys\n",
            "clerihew\t   madrigal\t       triolet\n",
            "collins-sestet\t   mock-epic\t       triversen\n",
            "conceit\t\t   monoku\t       tyburn\n",
            "couplet\t\t   narrative\t       verse\n",
            "curtal-sonnet\t   nonet\t       verse-paragraph\n",
            "dactyl\t\t   occasional-poem     villanelle\n"
          ]
        }
      ]
    },
    {
      "cell_type": "code",
      "execution_count": 48,
      "metadata": {
        "colab": {
          "base_uri": "https://localhost:8080/"
        },
        "id": "bjrCnweAWuaE",
        "outputId": "467eaf50-ddcb-4af4-db66-bb659781d9df"
      },
      "outputs": [
        {
          "output_type": "stream",
          "name": "stdout",
          "text": [
            "There are 198 poems in the dataset\n"
          ]
        }
      ],
      "source": [
        "poems = get_text_files(path, folders = ['carol','haiku'])\n",
        "print(\"There are\",len(poems),\"poems in the dataset\")"
      ]
    },
    {
      "cell_type": "code",
      "execution_count": 60,
      "metadata": {
        "colab": {
          "base_uri": "https://localhost:8080/"
        },
        "id": "8LmPl11sWuaE",
        "outputId": "07304a35-f438-4140-d915-af7493cc842f"
      },
      "outputs": [
        {
          "output_type": "stream",
          "name": "stdout",
          "text": [
            "There are 100 ballads in the dataset\n"
          ]
        }
      ],
      "source": [
        "ballads = get_text_files(path, folders = ['ballad'])\n",
        "print(\"There are\",len(ballads),\"ballads in the dataset\")"
      ]
    },
    {
      "cell_type": "code",
      "execution_count": 50,
      "metadata": {
        "colab": {
          "base_uri": "https://localhost:8080/"
        },
        "id": "FzS93nTkWuaH",
        "outputId": "c7f3ebc9-fb9e-4966-c59a-9a44d2e939e3"
      },
      "outputs": [
        {
          "output_type": "stream",
          "name": "stdout",
          "text": [
            "haiku one:\n",
            "in criss-crossing shadows\n",
            "of the mountains, we admire\n",
            "sunbathed summits\n",
            "haiku two:\n",
            "in criss crossing shadows\n",
            "we admire sunbathed\n",
            "summits\n",
            "haiku three:\n",
            "tottering ballet dancer\n",
            "the butterfly flutters\n",
            "round a bloom\n",
            "haiku three:\n",
            "dead widow's bamboo bell\n",
            "each chime echoes\n",
            "a memory of her\n",
            "dead widow's bamboo bell\n",
            "each chime numbs\n",
            "the mind\n",
            "dead widow's bamboo bell\n",
            "each chime echoes\n",
            "a lonely year/her lonely years\n",
            "haiku four;\n",
            "dead widow's bamboo bell\n",
            "forelorn the chime\n",
            "has become\n",
            "tanka:\n",
            "dugout river\n",
            "a nude doll stares\n",
            "right through me\n",
            "i discover stephen king and\n",
            "- shiver\n"
          ]
        }
      ],
      "source": [
        "txt = poems[0].open().read(); #read the first file\n",
        "print(txt)"
      ]
    },
    {
      "cell_type": "markdown",
      "metadata": {
        "id": "nnbPDprwsbDw"
      },
      "source": [
        "## Prepare the data"
      ]
    },
    {
      "cell_type": "code",
      "execution_count": 72,
      "metadata": {
        "colab": {
          "base_uri": "https://localhost:8080/"
        },
        "id": "lVyyMkk8sbDz",
        "outputId": "c4db3eb1-da0a-418e-9e74-db74e33492a5"
      },
      "outputs": [
        {
          "output_type": "execute_result",
          "data": {
            "text/plain": [
              "(#100) ['A Ballad of Burdens\\nThe burden of fair women. Vain delight,\\nAnd love self-slain in some sweet shameful way,\\nAnd sorrowful old age that comes by night\\nAs a thief comes that has no heart by day,\\nAnd change that finds fair cheeks and leaves them grey,\\nAnd weariness that keeps awake for hire,\\nAnd grief that says what pleasure used to say;\\nThis is the end of every man\\'s desire.\\nThe burden of bought kisses. This is sore,\\nA burden without fruit in childbearing;\\nBetween the nightfall and the dawn threescore,\\nThreescore between the dawn and evening.\\nThe shuddering in thy lips, the shuddering\\nIn thy sad eyelids tremulous like fire,\\nMakes love seem shameful and a wretched thing.\\nThis is the end of every man\\'s desire.\\nThe burden of sweet speeches. Nay, kneel down,\\nCover thy head, and weep; for verily\\nThese market-men that buy thy white and brown\\nIn the last days shall take no thought for thee.\\nIn the last days like earth thy face shall be,\\nYea, like sea-marsh made thick with brine and mire,\\nSad with sick leavings of the sterile sea.\\nThis is the end of every man\\'s desire.\\nThe burden of long living. Thou shalt fear\\nWaking, and sleeping mourn upon thy bed;\\nAnd say at night \"Would God the day were here,\"\\nAnd say at dawn \"Would God the day were dead.\"\\nWith weary days thou shalt be clothed and fed,\\nAnd wear remorse of heart for thine attire,\\nPain for thy girdle and sorrow upon thine head;\\nThis is the end of every man\\'s desire.\\nThe burden of bright colours. Thou shalt see\\nGold tarnished, and the grey above the green;\\nAnd as the thing thou seest thy face shall be,\\nAnd no more as the thing beforetime seen.\\nAnd thou shalt say of mercy \"It hath been,\"\\nAnd living, watch the old lips and loves expire,\\nAnd talking, tears shall take thy breath between;\\nThis is the end of every man\\'s desire.\\nThe burden of sad sayings. In that day\\nThou shalt tell all thy days and hours, and tell\\nThy times and ways and words of love, and say\\nHow one was dear and one desirable,\\nAnd sweet was life to hear and sweet to smell,\\nBut now with lights reverse the old hours retire\\nAnd the last hour is shod with fire from hell;\\nThis is the end of every man\\'s desire.\\nThe burden of four seasons. Rain in spring,\\nWhite rain and wind among the tender trees;\\nA summer of green sorrows gathering,\\nRank autumn in a mist of miseries,\\nWith sad face set towards the year, that sees\\nThe charred ash drop out of the dropping pyre,\\nAnd winter wan with many maladies;\\nThis is the end of every man\\'s desire.\\nThe burden of dead faces. Out of sight\\nAnd out of love, beyond the reach of hands,\\nChanged in the changing of the dark and light,\\nThey walk and weep about the barren lands\\nWhere no seed is nor any garner stands,\\nWhere in short breaths the doubtful days respire,\\nAnd time\\'s turned glass lets through the sighing sands;\\nThis is the end of every man\\'s desire.\\nThe burden of much gladness. Life and lust\\nForsake thee, and the face of thy delight;\\nAnd underfoot the heavy hour strews dust,\\nAnd overhead strange weathers burn and bite;\\nAnd where the red was, lo the bloodless white,\\nAnd where the truth was, the likeness of a liar,\\nAnd where the day was, the likeness of the night;\\nThis is the end of every man\\'s desire.\\nL\\'ENVOY\\nPrinces, and ye whom pleasure quickeneth,\\nHeed well this rhyme before your pleasure tire;\\nFor life is sweet, but after life is death.\\nThis is the end of every man\\'s desire.','Some words are bullets\\nsome mouths resemble barrels\\ncertain tongues triggers','The burden of hard hitting. Slug away\\nLike Honus Wagner or like Tyrus Cobb.\\nElse fandom shouteth: \"Who said you could play?\\nBack to the jasper league, you minor slob!\"\\nSwat, hit, connect, line out, goet on the job.\\nElse you shall feel the brunt of fandom\\'s ire\\nBiff, bang it, clout it, hit it on the knob -\\nThis is the end of every fan\\'s desire.\\nThe burden of good pitching. Curved or straight.\\nOr in or out, or haply up or down,\\nTo puzzle him that standeth by the plate,\\nTo lessen, so to speak, his bat-renown:\\nLike Christy Mathewson or Miner Brown,\\nSo pitch that every man can but admire\\nAnd offer you the freedom of the town -\\nThis is the end of every fan\\'s desire.\\nThe burden of loud cheering. O the sounds!\\nThe tumult and the shouting from the throats\\nOf forty thousand at the Polo Grounds\\nSitting, ay, standing sans their hats and coats.\\nA mighty cheer that possibly denotes\\nThat Cub or Pirate fat is in the fire;\\nOr, as H. James would say, We\\'ve got their goats -\\nThis is the end of every fan\\'s desire.\\nThe burden of a pennant. O the hope,\\nThe tenuous hope, the hope that\\'s half a fear,\\nThe lengthy season and the boundless dope,\\nAnd the bromidic, \"Wait until next year.\"\\nO dread disgrace of trailing in the rear,\\nO Piece of Bunting, flying high and higher\\nThat next October it shall flutter here:\\nThis is the end of every fan\\'s desire.\\nENVOY\\nAh, Fans, let not the Quarry but the Chase\\nBe that to which most fondly we aspire!\\nFor us not Stake, but Game; not Goal, but Race -\\nTHIS is the end of every fan\\'s desire.','If down here I chance to die,\\nSolemnly I beg you take\\nAll that is left of \"I\"\\nTo the Hills for old sake\\'s sake,\\nPack me very thoroughly\\nIn the ice that used to slake\\nPegs I drank when I was dry --\\nThis observe for old sake\\'s sake.\\nTo the railway station hie,\\nThere a single ticket take\\nFor Umballa -- goods-train -- I\\nShall not mind delay or shake.\\nI shall rest contentedly\\nSpite of clamor coolies make;\\nThus in state and dignity\\nSend me up for old sake\\'s sake.\\nNext the sleepy Babu wake,\\nBook a Kalka van \"for four.\"\\nFew, I think, will care to make\\nJourneys with me any more\\nAs they used to do of yore.\\nI shall need a \"special\" break --\\nThing I never took before --\\nGet me one for old sake\\'s sake.\\nAfter that -- arrangements make.\\nNo hotel will take me in,\\nAnd a bullock\\'s back would break\\n\\'Neath the teak and leaden skin\\nTonga ropes are frail and thin,\\nOr, did I a back-seat take,\\nIn a tonga I might spin, --\\nDo your best for old sake\\'s sake.\\nAfter that -- your work is done.\\nRecollect a Padre must\\nMourn the dear departed one --\\nThrow the ashes and the dust.\\nDon\\'t go down at once. I trust\\nYou will find excuse to \"snake\\nThree days\\' casual on the bust.\"\\nGet your fun for old sake\\'s sake.\\nI could never stand the Plains.\\nThink of blazing June and May\\nThink of those September rains\\nYearly till the Judgment Day!\\nI should never rest in peace,\\nI should sweat and lie awake.\\nRail me then, on my decease,\\nTo the Hills for old sake\\'s sake.','Those who sailed at dawn\\nbut will never return\\nleft their trace on a wave--\\na shell fell to the bottom of the sea\\nbeautiful as lips turned to stone\\nthose who walked on a sandy road\\nbut could not reach the shuttered windows\\nthough they already saw the roofs--\\nthey have found shelter in a bell of air\\nbut those who leave behind only\\na room grown cold a few books\\nan empty inkwell white paper--\\nin truth they have not completely died\\ntheir whisper travels through thickets of wallpaper\\ntheir level head still lives in the ceiling\\ntheir paradise was made of air\\nof water lime and earth an angel of wind\\nwill pulverize the body in its hand\\nthey will be\\ncarried over the meadows of this world',\"Down by the flash of the restless water\\nThe dim White Ship like a white bird lay;\\nLaughing at life and the world they sought her,\\nAnd out she swung to the silvering bay.\\nThen off they flew on their roystering way,\\nAnd the keen moon fired the light foam flying\\nUp from the flood where the faint stars play,\\nAnd the bones of the brave in the wave are lying.\\n'T was a king's fair son with a king's fair daughter,\\nAnd full three hundred beside, they say, --\\nRevelling on for the lone, cold slaughter\\nSo soon to seize them and hide them for aye;\\nBut they danced and they drank and their souls grew gay,\\nNor ever they knew of a ghoul's eye spying\\nTheir splendor a flickering phantom to stray\\nWhere the bones of the brave in the wave are lying.\\nThrough the mist of a drunken dream they brought her\\n(This wild white bird) for the sea-fiend's prey:\\nThe pitiless reef in his hard clutch caught her,\\nAnd hurled her down where the dead men stay.\\nA torturing silence of wan dismay --\\nShrieks and curses of mad souls dying --\\nThen down they sank to slumber and sway\\nWhere the bones of the brave in the wave are lying.\\nENVOY\\nPrince, do you sleep to the sound alway\\nOf the mournful surge and the sea-birds' crying? --\\nOr does love still shudder and steel still slay,\\nWhere the bones of the brave in the wave are lying?\",\"Which, in the Arabic language, is to the following purport:\\nI\\nTHE Moorish King rides up and down,\\nThrough Granada's royal town;\\nFrom Elvira's gate to those\\nOf Bivarambla on he goes.\\nWoe is me, Alhama!\\nII\\nLetters to the monarch tell\\nHow Alhama's city fell:\\nIn the fire the scroll he threw,\\nAnd the messenger he slew.\\nWoe is me, Albamal\\nIII\\nHe quits his mule, and mounts his horse,\\nAnd through the street directs his course;\\nThrough the street of Zacatin\\nTo the Alhambra spurring in.\\nWoe is me, Alhama!\\nIV\\nWhen the Alhambra walls he gain'd,\\nOn the moment he ordain'd\\nThat the trumpet straight should sound\\nWith the silver clarion round.\\nWoe is me, Alhamal\\nV\\nAnd when the hollow drums of war\\nBeat the loud alarm afar,\\nThat the Moors of town and plain\\nMight answer to the martial strain.\\nWoe is me, Alhama!\\nVI\\nThen the Moors, by this aware,\\nThat bloody Mars recall'd them there,\\nOne by one, and two by two,\\nTo a mighty squadron grew.\\nWoe is me, Alhama!\\nVII\\nOut then spake an aged Moor\\nIn these words the king before,\\n'Wherefore call on us, oh King?\\nWhat may mean this gathering?'\\nWoe is me, Alhama!\\nVIII\\n'Friends! ye have, alas! to know\\nOf a most disastrous blow;\\nThat the Christians, stern and bold,\\nHave obtain'd Albania's hold.'\\nWoe is me, Alhama!\\nIX\\nOut then spake old Alfaqui,\\nWith his beard so white to see,\\n'Good King! thou art justly served,\\nGood King! this thou hast deserved.\\nWoe is me, Alhama!\\nX\\n'By thee were slain, in evil hour,\\nThe Abencerrage, Granada's flower;\\nAnd strangers were received by thee\\nOf Cordova the Chivalry.\\nWoe is me, Alhama!\\nXI\\n'And for this, oh King! is sent\\nOn thee a double chastisement:\\nThee and thine, thy crown and realm,\\nOne last wreck shall overwhelm.\\nWoe is me, Alhama!\\nXII\\n'He who holds no laws in awe,\\nHe must perish by the law;\\nAnd Granada must be won,\\nAnd thyself with her undone.'\\nWoe is me, Alhama!\\nXIII\\nFire Crashed from out the old Moor's eyes,\\nThe Monarch's wrath began to rise,\\nBecause he answer'd, and because\\nHe spake exceeding well of laws.\\nWoe is me, Alhama!\\nXIV\\n'There is no law to say such things\\nAs may disgust the ear of kings:\\n'Thus, snorting with his choler, said\\nThe Moorish King, and doom'd him dead.\\nWoe is me, Alhama!\\nXV\\nMoor Alfaqui! Moor Alfaqui!\\nThough thy beard so hoary be,\\nThe King hath sent to have thee seized,\\nFor Alhama's loss displeased.\\nWoe is me, Alhama!\\nXVI\\nAnd to fix thy head upon\\nHigh Alhambra's loftiest stone;\\nThat thus for thee should be the law,\\nAnd others tremble when they saw.\\nWoe is me, Alhama!\\nXVII\\n'Cavalier, and man of worth!\\nLet these words of mine go forth!\\nLet the Moorish Monarch know,\\nThat to him I nothing owe.\\nWoe is me, Alhama!\\nXVIII\\n'But on my soul Alhama weighs,\\nAnd on my inmost spirit preys;\\nAnd if the King his land hath lost,\\nYet others may have lost the most.\\nWoe is me, Alhama!\\nXIX\\n'Sires have lost their children, wives\\nTheir lords, and valiant men their lives!\\nOne what best his love might claim\\nHath lost, another wealth, or fame.\\nWoe is me, Alhama!\\nXX\\n'I lost a damsel in that hour,\\nOf all the land the loveliest flower;\\nDoubloons a hundred I would pay,\\nAnd think her ransom cheap that day.'\\nWoe is me, Alhama!\\nXXI\\nAnd as these things the old Moor said,\\nThey sever'd from the trunk his head;\\nAnd to the Alhambra's wall with speed\\n'Twas carried, as the King decreed.\\nWoe is me, Alhama!\\nXXII\\nAnd men and infants therein weep\\nTheir loss, so heavy and so deep;\\nGranada's ladies, all she rears\\nWithin her walls, burst into tears.\\nWoe is me, Alhama!\\nXXIII\\nAnd from the windows o'er the walls\\nThe sable web of mourning falls;\\nThe King weeps as a woman o'er\\nHis loss, for it is much and sore.\\nWoe is me, Alhama!\",'If you were born before yesterday,\\nSurely you\\'ve heard about Tailor Nils, who flaunts him so gay.\\nIf it\\'s more than a week that you\\'ve been here,\\nSurely you\\'ve heard how Knut Storedragen got a lesson severe.\\nUp on the barn of Ola-Per Kviste after a punchin\\':\\n\"When Nils heaves you again, take with you some luncheon.\"\\nHans Bugge, he was a man so renowned,\\nHaunting ghosts of his name spread alarm all around.\\n\"Tailor Nils, where you wish to lie, now declare!\\nOn that spot will I spit and lay your head right there.\"--\\n\"Oh, just come up so near, that I know you by the scent!\\nThink not that by your jaw to earth I shall be bent!\"\\nWhen first they met, \\'t was scarce a bout at all,\\nNeither man was ready yet to try to get a fall.\\nThe second time Hans Bugge slipped his hold.\\n\"Are you tired now, Hans Bugge?  The dance will soon be bold.\"\\nThe third time Hans fell headlong, and forth the blood did spurt.\\n\"Why spit you now so much, man?\" -- \"Oh my, that fall did hurt!\"--\\nSaw you a tree casting shadows on new-fallen snow?\\nSaw you Nils on a maiden smiling glances bestow?\\nHave you seen Tailor Nils when the dance he commences?\\nAre you a maiden, then go!--It\\'s too late, when you\\'ve lost your senses.','The railway rattled and roared and swung\\nWith jolting and bumping trucks.\\nThe sun, like a billiard red ball, hung\\nIn the Western sky: and the tireless tongue\\nOf the wild-eyed man in the corner told\\nThis terrible tale of the days of old,\\nAnd the party that ought to have kept the ducks.\\n\"Well, it ain\\'t all joy bein\\' on the land\\nWith an overdraft that\\'d knock you flat;\\nAnd the rabbits have pretty well took command;\\nBut the hardest thing for a man to stand\\nIs the feller who says \\'Well I told you so!\\nYou should ha\\' done this way, don\\'t you know!\\' --\\nI could lay a bait for a man like that.\\n\"The grasshoppers struck us in ninety-one\\nAnd what they leave -- well, it ain\\'t de luxe.\\nBut a growlin\\' fault-findin\\' son of a gun\\nWho\\'d lent some money to stock our run --\\nI said they\\'d eaten what grass we had --\\nSays he, \\'Your management\\'s very bad;\\nYou had a right to have kept some ducks!\\'\\n\"To have kept some ducks! And the place was white!\\nWherever you went you had to tread\\nOn grasshoppers guzzlin\\' day and night;\\nAnd then with a swoosh they rose in flight,\\nIf you didn\\'t look out for yourself they\\'d fly\\nLike bullets into your open eye\\nAnd knock it out of the back of your head.\\n\"There isn\\'t a turkey or goose or swan,\\nOr a duck that quacks, or a hen that clucks,\\nCan make a difference on a run\\nWhen a grasshopper plague has once begun;\\n\\'If you\\'d finance us,\\' I says, \\'I\\'d buy\\nTen thousand emus and have a try;\\nThe job,\\' I says, \\'is too big for ducks!\\n\"\\'You must fetch a duck when you come to stay;\\nA great big duck -- a Muscovy toff --\\nReady and fit,\\' I says, \\'for the fray;\\nAnd if the grasshoppers come our way\\nYou turn your duck into the lucerne patch,\\nAnd I\\'d be ready to make a match\\nThat the grasshoppers eat his feathers off!\"\\n\"He came to visit us by and by,\\nAnd it just so happened one day in spring\\nA kind of cloud came over the sky --\\nA wall of grasshoppers nine miles high,\\nAnd nine miles thick, and nine hundred wide,\\nFlyin\\' in regiments, side by side,\\nAnd eatin\\' up every living thing.\\n\"All day long, like a shower of rain,\\nYou\\'d hear \\'em smackin\\' against the wall,\\nTap, tap, tap, on the window pane,\\nAnd they\\'d rise and jump at the house again\\nTill their crippled carcasses piled outside.\\nBut what did it matter if thousands died --\\nA million wouldn\\'t be missed at all.\\n\"We were drinkin\\' grasshoppers -- so to speak --\\nTill we skimmed their carcasses off the spring;\\nAnd they fell so thick in the station creek\\nThey choked the waterholes all the week.\\nThere was scarcely room for a trout to rise,\\nAnd they\\'d only take artificial flies --\\nThey got so sick of the real thing.\\n\"An Arctic snowstorm was beat to rags\\nWhen the hoppers rose for their morning flight\\nWith the flapping noise like a million flags:\\nAnd the kitchen chimney was stuffed with bags\\nFor they\\'d fall right into the fire, and fry\\nTill the cook sat down and began to cry --\\nAnd never a duck or fowl in sight.\\n\"We strolled across to the railroad track --\\nUnder a cover beneath some trucks,\\nI sees a feather and hears a quack;\\nI stoops and I pulls the tarpaulin back --\\nEvery duck in the place was there,\\nNo good to them was the open air.\\n\\'Mister,\\' I says, \\'There\\'s your blanky ducks!\\'\"',\"Across the stony ridges,\\nAcross the rolling plain,\\nYoung Harry Dale, the drover,\\nComes riding home again.\\nAnd well his stock-horse bears him,\\nAnd light of heart is he,\\nAnd stoutly his old pack-horse\\nIs trotting by his knee.\\nUp Queensland way with cattle\\nHe travelled regions vast;\\nAnd many months have vanished\\nSince home-folk saw him last.\\nHe hums a song of someone\\nHe hopes to marry soon;\\nAnd hobble-chains and camp-ware\\nKeep jingling to the tune.\\nBeyond the hazy dado\\nAgainst the lower skies\\nAnd yon blue line of ranges\\nThe homestead station lies.\\nAnd thitherward the drover\\nJogs through the lazy noon,\\nWhile hobble-chains and camp-ware\\nAre jingling to a tune.\\nAn hour has filled the heavens\\nWith storm-clouds inky black;\\nAt times the lightning trickles\\nAround the drover's track;\\nBut Harry pushes onward,\\nHis horses' strength he tries,\\nIn hope to reach the river\\nBefore the flood shall rise.\\nThe thunder from above him\\nGoes rolling o'er the plain;\\nAnd down on thirsty pastures\\nIn torrents falls the rain.\\nAnd every creek and gully\\nSends forth its little flood,\\nTill the river runs a banker,\\nAll stained with yellow mud.\\nNow Harry speaks to Rover,\\nThe best dog on the plains,\\nAnd to his hardy horses,\\nAnd strokes their shaggy manes;\\n`We've breasted bigger rivers\\nWhen floods were at their height\\nNor shall this gutter stop us\\nFrom getting home to-night!'\\nThe thunder growls a warning,\\nThe ghastly lightnings gleam,\\nAs the drover turns his horses\\nTo swim the fatal stream.\\nBut, oh! the flood runs stronger\\nThan e'er it ran before;\\nThe saddle-horse is failing,\\nAnd only half-way o'er!\\nWhen flashes next the lightning,\\nThe flood's grey breast is blank,\\nAnd a cattle dog and pack-horse\\nAre struggling up the bank.\\nBut in the lonely homestead\\nThe girl will wait in vain -\\nHe'll never pass the stations\\nIn charge of stock again.\\nThe faithful dog a moment\\nSits panting on the bank,\\nAnd then swims through the current\\nTo where his master sank.\\nAnd round and round in circles\\nHe fights with failing strength,\\nTill, borne down by the waters,\\nThe old dog sinks at length.\\nAcross the flooded lowlands\\nAnd slopes of sodden loam\\nThe pack-horse struggles onward,\\nTo take dumb tidings home.\\nAnd mud-stained, wet, and weary,\\nThrough ranges dark goes he;\\nWhile hobble-chains and tinware\\nAre sounding eerily.\\nThe floods are in the ocean,\\nThe stream is clear again,\\nAnd now a verdant carpet\\nIs stretched across the plain.\\nBut someone's eyes are saddened,\\nAnd someone's heart still bleeds\\nIn sorrow for the drover\\nWho sleeps among the reeds.\"...]"
            ]
          },
          "metadata": {},
          "execution_count": 72
        }
      ],
      "source": [
        "ballads = L(o.open().read() for o in ballads[:6000]) # to make things easy we will gather all texts in one numpy array\n",
        "ballads\n"
      ]
    },
    {
      "cell_type": "code",
      "execution_count": 73,
      "metadata": {
        "colab": {
          "base_uri": "https://localhost:8080/"
        },
        "id": "FzyeJPzbsbD0",
        "outputId": "7f079f84-5dd8-4d0a-b5cc-8b5918890d21"
      },
      "outputs": [
        {
          "output_type": "execute_result",
          "data": {
            "text/plain": [
              "100"
            ]
          },
          "metadata": {},
          "execution_count": 73
        }
      ],
      "source": [
        "def flatten(A):\n",
        "    rt = []\n",
        "    for i in A:\n",
        "        if isinstance(i,list): rt.extend(flatten(i))\n",
        "        else: rt.append(i)\n",
        "    return rt\n",
        "  \n",
        "all_ballads = flatten(ballads)\n",
        "len(all_ballads)"
      ]
    },
    {
      "cell_type": "code",
      "execution_count": 74,
      "metadata": {
        "id": "6Hlq7IOMsbD1"
      },
      "outputs": [],
      "source": [
        "class TransformersTokenizer(Transform):\n",
        "    def __init__(self, tokenizer): self.tokenizer = tokenizer\n",
        "    def encodes(self, x): \n",
        "        toks = self.tokenizer.tokenize(x)\n",
        "        return tensor(self.tokenizer.convert_tokens_to_ids(toks))\n",
        "    def decodes(self, x): return TitledStr(self.tokenizer.decode(x.cpu().numpy()))"
      ]
    },
    {
      "cell_type": "code",
      "execution_count": 75,
      "metadata": {
        "id": "6Rg0y7DSsbD2"
      },
      "outputs": [],
      "source": [
        "splits = [range_of(70), range(100)] # use a 70/30 split\n",
        "\n",
        "tls = TfmdLists(all_ballads, TransformersTokenizer(tokenizer), splits=splits, dl_type=LMDataLoader)"
      ]
    },
    {
      "cell_type": "code",
      "execution_count": 77,
      "metadata": {
        "colab": {
          "base_uri": "https://localhost:8080/"
        },
        "id": "h9SuD_dPsbD2",
        "outputId": "38f72bbd-6e40-4db7-f731-0f961bac23a9"
      },
      "outputs": [
        {
          "output_type": "stream",
          "name": "stdout",
          "text": [
            "A Ballad of Burdens\n",
            "The burden of fair women. Vain delight,\n",
            "And love self-slain in some sweet shameful way,\n",
            "And sorrowful old age that comes by night\n",
            "As a thief comes that has no heart by day,\n",
            "And change that finds fair cheeks and leaves them grey,\n",
            "And weariness that keeps awake for hire,\n",
            "And grief that says what pleasure used to say;\n",
            "This is the end of every man's desire.\n",
            "The burden of bought kisses. This is sore,\n",
            "A burden without fruit in childbearing;\n",
            "Between the nightfall and the dawn threescore,\n",
            "Threescore between the dawn and evening.\n",
            "The shuddering in thy lips, the shuddering\n",
            "In thy sad eyelids tremulous like fire,\n",
            "Makes love seem shameful and a wretched thing.\n",
            "This is the end of every man's desire.\n",
            "The burden of sweet speeches. Nay, kneel down,\n",
            "Cover thy head, and weep; for verily\n",
            "These market-men that buy thy white and brown\n",
            "In the last days shall take no thought for thee.\n",
            "In the last days like earth thy face shall be,\n",
            "Yea, like sea-marsh made thick with brine and mire,\n",
            "Sad with sick leavings of the sterile sea.\n",
            "This is the end of every man's desire.\n",
            "The burden of long living. Thou shalt fear\n",
            "Waking, and sleeping mourn upon thy bed;\n",
            "And say at night \"Would God the day were here,\"\n",
            "And say at dawn \"Would God the day were dead.\"\n",
            "With weary days thou shalt be clothed and fed,\n",
            "And wear remorse of heart for thine attire,\n",
            "Pain for thy girdle and sorrow upon thine head;\n",
            "This is the end of every man's desire.\n",
            "The burden of bright colours. Thou shalt see\n",
            "Gold tarnished, and the grey above the green;\n",
            "And as the thing thou seest thy face shall be,\n",
            "And no more as the thing beforetime seen.\n",
            "And thou shalt say of mercy \"It hath been,\"\n",
            "And living, watch the old lips and loves expire,\n",
            "And talking, tears shall take thy breath between;\n",
            "This is the end of every man's desire.\n",
            "The burden of sad sayings. In that day\n",
            "Thou shalt tell all thy days and hours, and tell\n",
            "Thy times and ways and words of love, and say\n",
            "How one was dear and one desirable,\n",
            "And sweet was life to hear and sweet to smell,\n",
            "But now with lights reverse the old hours retire\n",
            "And the last hour is shod with fire from hell;\n",
            "This is the end of every man's desire.\n",
            "The burden of four seasons. Rain in spring,\n",
            "White rain and wind among the tender trees;\n",
            "A summer of green sorrows gathering,\n",
            "Rank autumn in a mist of miseries,\n",
            "With sad face set towards the year, that sees\n",
            "The charred ash drop out of the dropping pyre,\n",
            "And winter wan with many maladies;\n",
            "This is the end of every man's desire.\n",
            "The burden of dead faces. Out of sight\n",
            "And out of love, beyond the reach of hands,\n",
            "Changed in the changing of the dark and light,\n",
            "They walk and weep about the barren lands\n",
            "Where no seed is nor any garner stands,\n",
            "Where in short breaths the doubtful days respire,\n",
            "And time's turned glass lets through the sighing sands;\n",
            "This is the end of every man's desire.\n",
            "The burden of much gladness. Life and lust\n",
            "Forsake thee, and the face of thy delight;\n",
            "And underfoot the heavy hour strews dust,\n",
            "And overhead strange weathers burn and bite;\n",
            "And where the red was, lo the bloodless white,\n",
            "And where the truth was, the likeness of a liar,\n",
            "And where the day was, the likeness of the night;\n",
            "This is the end of every man's desire.\n",
            "L'ENVOY\n",
            "Princes, and ye whom pleasure quickeneth,\n",
            "Heed well this rhyme before your pleasure tire;\n",
            "For life is sweet, but after life is death.\n",
            "This is the end of every man's desire.\n"
          ]
        }
      ],
      "source": [
        "show_at(tls.train, 0)"
      ]
    },
    {
      "cell_type": "code",
      "execution_count": 78,
      "metadata": {
        "colab": {
          "base_uri": "https://localhost:8080/"
        },
        "id": "zDfmgYHysbD3",
        "outputId": "2e93a70e-1900-4bd4-b276-294f1714a04e"
      },
      "outputs": [
        {
          "output_type": "stream",
          "name": "stderr",
          "text": [
            "Token indices sequence length is longer than the specified maximum sequence length for this model (1170 > 1024). Running this sequence through the model will result in indexing errors\n"
          ]
        }
      ],
      "source": [
        "bs,sl = 4,256\n",
        "dls = tls.dataloaders(bs=bs, seq_len=sl)"
      ]
    },
    {
      "cell_type": "code",
      "execution_count": 79,
      "metadata": {
        "colab": {
          "base_uri": "https://localhost:8080/",
          "height": 789
        },
        "id": "mhhdIQ-ZsbD3",
        "outputId": "441bc32d-4df9-4b7a-e6db-bb10fd4be993"
      },
      "outputs": [
        {
          "output_type": "display_data",
          "data": {
            "text/plain": [
              "<IPython.core.display.HTML object>"
            ],
            "text/html": [
              "<table border=\"1\" class=\"dataframe\">\n",
              "  <thead>\n",
              "    <tr style=\"text-align: right;\">\n",
              "      <th></th>\n",
              "      <th>text</th>\n",
              "      <th>text_</th>\n",
              "    </tr>\n",
              "  </thead>\n",
              "  <tbody>\n",
              "    <tr>\n",
              "      <th>0</th>\n",
              "      <td>DOWN harvest headlands the fairy host\\nOf the poppy banners have flashed and fled,\\nThe lilies have faded like ghost and ghost,\\nThe ripe rose rots in the garden bed.\\nThe grain is garnered, the blooms are shed,\\nConvolvulus springs on the snowdrop’s bier,\\nIn her stranded gold is the silver thread\\nOf the first grey hair i’ the head o’ the year.\\nLike an arrant knave from a bootless boast,\\nThe fire-wind back to his North has sped\\nTo harry the manes of a haunted coast\\nOn a far sea-rim where the stars are dead.\\nWistful the welkin with wordless dread,\\nMournful the uplands, all ashen sere—\\nSad for the snow on a beauteous head—\\nFor the first grey hair i’ the head o’ the year.\\nTime trysts with Death at the finger-post,\\nWhere the broken issues of life are wed—\\nIntone no dirges, fill up the toast\\nTo the troops that trip it with silent tread,\\nMerry we’ll make it tho’ skies be lead</td>\n",
              "      <td>harvest headlands the fairy host\\nOf the poppy banners have flashed and fled,\\nThe lilies have faded like ghost and ghost,\\nThe ripe rose rots in the garden bed.\\nThe grain is garnered, the blooms are shed,\\nConvolvulus springs on the snowdrop’s bier,\\nIn her stranded gold is the silver thread\\nOf the first grey hair i’ the head o’ the year.\\nLike an arrant knave from a bootless boast,\\nThe fire-wind back to his North has sped\\nTo harry the manes of a haunted coast\\nOn a far sea-rim where the stars are dead.\\nWistful the welkin with wordless dread,\\nMournful the uplands, all ashen sere—\\nSad for the snow on a beauteous head—\\nFor the first grey hair i’ the head o’ the year.\\nTime trysts with Death at the finger-post,\\nWhere the broken issues of life are wed—\\nIntone no dirges, fill up the toast\\nTo the troops that trip it with silent tread,\\nMerry we’ll make it tho’ skies be lead,</td>\n",
              "    </tr>\n",
              "    <tr>\n",
              "      <th>1</th>\n",
              "      <td>all of birds bellowed and fell,\\nA cloud blew the rain from its throat;\\nHe saw the storm smoke out to kill\\nWith fuming bows and ram of ice,\\nFire on starlight, rake Jesu's stream;\\nAnd nothing shone on the water's face\\nBut the oil and bubble of the moon,\\nPlunging and piercing in his course\\nThe lured fish under the foam\\nWitnessed with a kiss.\\nWhales in the wake like capes and Alps\\nQuaked the sick sea and snouted deep,\\nDeep the great bushed bait with raining lips\\nSlipped the fins of those humpbacked tons\\nAnd fled their love in a weaving dip.\\nOh, Jericho was falling in their lungs!\\nShe nipped and dived in the nick of love,\\nSpun on a spout like a long-legged ball\\nTill every beast blared down in a swerve\\nTill every turtle crushed from his shell\\nTill every bone in the rushing grave\\nRose and crowed and fell!\\nGood luck to the hand on the rod,\\nThere is thunder under its thumbs;\\nGold gut is a lightning</td>\n",
              "      <td>of birds bellowed and fell,\\nA cloud blew the rain from its throat;\\nHe saw the storm smoke out to kill\\nWith fuming bows and ram of ice,\\nFire on starlight, rake Jesu's stream;\\nAnd nothing shone on the water's face\\nBut the oil and bubble of the moon,\\nPlunging and piercing in his course\\nThe lured fish under the foam\\nWitnessed with a kiss.\\nWhales in the wake like capes and Alps\\nQuaked the sick sea and snouted deep,\\nDeep the great bushed bait with raining lips\\nSlipped the fins of those humpbacked tons\\nAnd fled their love in a weaving dip.\\nOh, Jericho was falling in their lungs!\\nShe nipped and dived in the nick of love,\\nSpun on a spout like a long-legged ball\\nTill every beast blared down in a swerve\\nTill every turtle crushed from his shell\\nTill every bone in the rushing grave\\nRose and crowed and fell!\\nGood luck to the hand on the rod,\\nThere is thunder under its thumbs;\\nGold gut is a lightning</td>\n",
              "    </tr>\n",
              "  </tbody>\n",
              "</table>"
            ]
          },
          "metadata": {}
        }
      ],
      "source": [
        "dls.show_batch(max_n=2)"
      ]
    },
    {
      "cell_type": "markdown",
      "metadata": {
        "id": "CwoGds8tsbD3"
      },
      "source": [
        "## Fine-tuning the model"
      ]
    },
    {
      "cell_type": "code",
      "execution_count": 80,
      "metadata": {
        "id": "dmUK4HOgsbD4"
      },
      "outputs": [],
      "source": [
        "class DropOutput(Callback):\n",
        "    def after_pred(self): self.learn.pred = self.pred[0]"
      ]
    },
    {
      "cell_type": "code",
      "execution_count": 81,
      "metadata": {
        "id": "BoRIxK4JsbD4"
      },
      "outputs": [],
      "source": [
        "learn = Learner(dls, model, loss_func=CrossEntropyLossFlat(), cbs=[DropOutput], metrics=Perplexity()).to_fp16()"
      ]
    },
    {
      "cell_type": "code",
      "execution_count": 82,
      "metadata": {
        "colab": {
          "base_uri": "https://localhost:8080/",
          "height": 124
        },
        "id": "aBXc2TAGsbD4",
        "outputId": "a5b37d5f-1117-4635-847f-3c7738f85008"
      },
      "outputs": [
        {
          "output_type": "stream",
          "name": "stderr",
          "text": [
            "/usr/local/lib/python3.7/dist-packages/torch/amp/autocast_mode.py:198: UserWarning: User provided device_type of 'cuda', but CUDA is not available. Disabling\n",
            "  warnings.warn('User provided device_type of \\'cuda\\', but CUDA is not available. Disabling')\n",
            "/usr/local/lib/python3.7/dist-packages/torch/cuda/amp/grad_scaler.py:115: UserWarning: torch.cuda.amp.GradScaler is enabled, but CUDA is not available.  Disabling.\n",
            "  warnings.warn(\"torch.cuda.amp.GradScaler is enabled, but CUDA is not available.  Disabling.\")\n"
          ]
        },
        {
          "output_type": "display_data",
          "data": {
            "text/plain": [
              "<IPython.core.display.HTML object>"
            ],
            "text/html": [
              "\n",
              "<style>\n",
              "    /* Turns off some styling */\n",
              "    progress {\n",
              "        /* gets rid of default border in Firefox and Opera. */\n",
              "        border: none;\n",
              "        /* Needs to be in here for Safari polyfill so background images work as expected. */\n",
              "        background-size: auto;\n",
              "    }\n",
              "    progress:not([value]), progress:not([value])::-webkit-progress-bar {\n",
              "        background: repeating-linear-gradient(45deg, #7e7e7e, #7e7e7e 10px, #5c5c5c 10px, #5c5c5c 20px);\n",
              "    }\n",
              "    .progress-bar-interrupted, .progress-bar-interrupted::-webkit-progress-bar {\n",
              "        background: #F44336;\n",
              "    }\n",
              "</style>\n"
            ]
          },
          "metadata": {}
        },
        {
          "output_type": "display_data",
          "data": {
            "text/plain": [
              "<IPython.core.display.HTML object>"
            ],
            "text/html": []
          },
          "metadata": {}
        },
        {
          "output_type": "execute_result",
          "data": {
            "text/plain": [
              "(#2) [4.1803998947143555,65.39199829101562]"
            ]
          },
          "metadata": {},
          "execution_count": 82
        }
      ],
      "source": [
        "learn.validate()"
      ]
    },
    {
      "cell_type": "code",
      "execution_count": 83,
      "metadata": {
        "colab": {
          "base_uri": "https://localhost:8080/",
          "height": 300
        },
        "id": "ENRv4LFksbD5",
        "outputId": "40f26b99-17fb-4ae7-80bc-7c92432054b2"
      },
      "outputs": [
        {
          "output_type": "display_data",
          "data": {
            "text/plain": [
              "<IPython.core.display.HTML object>"
            ],
            "text/html": [
              "\n",
              "<style>\n",
              "    /* Turns off some styling */\n",
              "    progress {\n",
              "        /* gets rid of default border in Firefox and Opera. */\n",
              "        border: none;\n",
              "        /* Needs to be in here for Safari polyfill so background images work as expected. */\n",
              "        background-size: auto;\n",
              "    }\n",
              "    progress:not([value]), progress:not([value])::-webkit-progress-bar {\n",
              "        background: repeating-linear-gradient(45deg, #7e7e7e, #7e7e7e 10px, #5c5c5c 10px, #5c5c5c 20px);\n",
              "    }\n",
              "    .progress-bar-interrupted, .progress-bar-interrupted::-webkit-progress-bar {\n",
              "        background: #F44336;\n",
              "    }\n",
              "</style>\n"
            ]
          },
          "metadata": {}
        },
        {
          "output_type": "display_data",
          "data": {
            "text/plain": [
              "<IPython.core.display.HTML object>"
            ],
            "text/html": []
          },
          "metadata": {}
        },
        {
          "output_type": "execute_result",
          "data": {
            "text/plain": [
              "SuggestedLRs(valley=3.630780702224001e-05)"
            ]
          },
          "metadata": {},
          "execution_count": 83
        },
        {
          "output_type": "display_data",
          "data": {
            "text/plain": [
              "<Figure size 432x288 with 1 Axes>"
            ],
            "image/png": "[encoded data removed]"
          },
          "metadata": {
            "needs_background": "light"
          }
        }
      ],
      "source": [
        "learn.lr_find()"
      ]
    },
    {
      "cell_type": "code",
      "execution_count": 84,
      "metadata": {
        "colab": {
          "base_uri": "https://localhost:8080/",
          "height": 81
        },
        "id": "Cn3ZPMeTsbD5",
        "outputId": "c303eb17-93fe-466b-87fd-d534a810ce39"
      },
      "outputs": [
        {
          "output_type": "display_data",
          "data": {
            "text/plain": [
              "<IPython.core.display.HTML object>"
            ],
            "text/html": [
              "\n",
              "<style>\n",
              "    /* Turns off some styling */\n",
              "    progress {\n",
              "        /* gets rid of default border in Firefox and Opera. */\n",
              "        border: none;\n",
              "        /* Needs to be in here for Safari polyfill so background images work as expected. */\n",
              "        background-size: auto;\n",
              "    }\n",
              "    progress:not([value]), progress:not([value])::-webkit-progress-bar {\n",
              "        background: repeating-linear-gradient(45deg, #7e7e7e, #7e7e7e 10px, #5c5c5c 10px, #5c5c5c 20px);\n",
              "    }\n",
              "    .progress-bar-interrupted, .progress-bar-interrupted::-webkit-progress-bar {\n",
              "        background: #F44336;\n",
              "    }\n",
              "</style>\n"
            ]
          },
          "metadata": {}
        },
        {
          "output_type": "display_data",
          "data": {
            "text/plain": [
              "<IPython.core.display.HTML object>"
            ],
            "text/html": [
              "<table border=\"1\" class=\"dataframe\">\n",
              "  <thead>\n",
              "    <tr style=\"text-align: left;\">\n",
              "      <th>epoch</th>\n",
              "      <th>train_loss</th>\n",
              "      <th>valid_loss</th>\n",
              "      <th>perplexity</th>\n",
              "      <th>time</th>\n",
              "    </tr>\n",
              "  </thead>\n",
              "  <tbody>\n",
              "    <tr>\n",
              "      <td>0</td>\n",
              "      <td>4.327093</td>\n",
              "      <td>3.974171</td>\n",
              "      <td>53.206013</td>\n",
              "      <td>21:25</td>\n",
              "    </tr>\n",
              "  </tbody>\n",
              "</table>"
            ]
          },
          "metadata": {}
        }
      ],
      "source": [
        "learn.fit_one_cycle(1, 1e-4)"
      ]
    },
    {
      "cell_type": "markdown",
      "metadata": {
        "id": "csFn3JdssbD6"
      },
      "source": [
        "## Poem Generation"
      ]
    },
    {
      "cell_type": "code",
      "execution_count": 85,
      "metadata": {
        "id": "UkIZgorssbD6"
      },
      "outputs": [],
      "source": [
        "prompt = 'love is ridiculous' # create an initial text prompt to start your generated text\n",
        "prompt_ids = tokenizer.encode(prompt)\n",
        "inp = tensor(prompt_ids)[None]\n",
        "# inp.shape"
      ]
    },
    {
      "cell_type": "code",
      "execution_count": 86,
      "metadata": {
        "colab": {
          "base_uri": "https://localhost:8080/"
        },
        "id": "zQyDjh_LsbD6",
        "outputId": "354a4e54-85b7-4f80-d388-0fed1be0aed6"
      },
      "outputs": [
        {
          "output_type": "stream",
          "name": "stderr",
          "text": [
            "The attention mask and the pad token id were not set. As a consequence, you may observe unexpected behavior. Please pass your input's `attention_mask` to obtain reliable results.\n",
            "Setting `pad_token_id` to `eos_token_id`:50256 for open-end generation.\n"
          ]
        },
        {
          "output_type": "stream",
          "name": "stdout",
          "text": [
            "Output:\n",
            "----------------------------------------------------------------------------------------------------\n",
            "love is ridiculous.\n",
            "But I am not afraid of him,\n",
            "I am afraid that he will not see me\n",
            "When he sees me, or when he hears me;\n",
            "And I have no fear that I will never see him again.\"\n",
            "\"And what is the matter with you?\"\n",
            "\n"
          ]
        }
      ],
      "source": [
        "preds = learn.model.generate(inp, max_length=60, num_beams=5, no_repeat_ngram_size=2, early_stopping=True)\n",
        "print(\"Output:\\n\" + 100 * '-')\n",
        "print(tokenizer.decode(preds[0].cpu().numpy(), skip_special_tokens=True))"
      ]
    },
    {
      "cell_type": "code",
      "execution_count": 89,
      "metadata": {
        "colab": {
          "base_uri": "https://localhost:8080/"
        },
        "id": "TeEhWQMnsbD7",
        "outputId": "fac71858-6dc1-47a4-896f-df95029828c2"
      },
      "outputs": [
        {
          "output_type": "stream",
          "name": "stderr",
          "text": [
            "The attention mask and the pad token id were not set. As a consequence, you may observe unexpected behavior. Please pass your input's `attention_mask` to obtain reliable results.\n",
            "Setting `pad_token_id` to `eos_token_id`:50256 for open-end generation.\n"
          ]
        },
        {
          "output_type": "stream",
          "name": "stdout",
          "text": [
            "Output:\n",
            "----------------------------------------------------------------------------------------------------\n",
            "heartbreak.\n",
            "\"I'm glad to see you again,\" he said, \"but I don't know what to do with you. I'm afraid I'll never be able to go home again.\"\n",
            "He went on to say that he was afraid he'd never see his wife again, and\n"
          ]
        }
      ],
      "source": [
        "prompt = \"heartbreak\"\n",
        "prompt_ids = tokenizer.encode(prompt)\n",
        "inp = tensor(prompt_ids)[None]\n",
        "preds = learn.model.generate(inp, max_length=60, num_beams=5, no_repeat_ngram_size=2, early_stopping=True)\n",
        "print(\"Output:\\n\" + 100 * '-')\n",
        "print(tokenizer.decode(preds[0].cpu().numpy(), skip_special_tokens=True))"
      ]
    },
    {
      "cell_type": "code",
      "source": [
        "import pickle"
      ],
      "metadata": {
        "id": "gkpRo_hkIbM3"
      },
      "execution_count": 92,
      "outputs": []
    },
    {
      "cell_type": "code",
      "source": [
        "filename = \"model.sav\"\n",
        "pickle.dump(learn.model, open(filename, \"wb\"))"
      ],
      "metadata": {
        "id": "Zw0DiJ0YIjyL"
      },
      "execution_count": 94,
      "outputs": []
    },
    {
      "cell_type": "code",
      "source": [
        "model_saved = pickle.load(open(filename, \"rb\"))\n",
        "model_saved"
      ],
      "metadata": {
        "colab": {
          "base_uri": "https://localhost:8080/"
        },
        "id": "G7L2SmSMJCQS",
        "outputId": "e493c6a1-a0e6-4147-c36c-0b0067c03658"
      },
      "execution_count": 100,
      "outputs": [
        {
          "output_type": "execute_result",
          "data": {
            "text/plain": [
              "GPT2LMHeadModel(\n",
              "  (transformer): GPT2Model(\n",
              "    (wte): Embedding(50257, 768)\n",
              "    (wpe): Embedding(1024, 768)\n",
              "    (drop): Dropout(p=0.1, inplace=False)\n",
              "    (h): ModuleList(\n",
              "      (0): GPT2Block(\n",
              "        (ln_1): LayerNorm((768,), eps=1e-05, elementwise_affine=True)\n",
              "        (attn): GPT2Attention(\n",
              "          (c_attn): Conv1D()\n",
              "          (c_proj): Conv1D()\n",
              "          (attn_dropout): Dropout(p=0.1, inplace=False)\n",
              "          (resid_dropout): Dropout(p=0.1, inplace=False)\n",
              "        )\n",
              "        (ln_2): LayerNorm((768,), eps=1e-05, elementwise_affine=True)\n",
              "        (mlp): GPT2MLP(\n",
              "          (c_fc): Conv1D()\n",
              "          (c_proj): Conv1D()\n",
              "          (act): NewGELUActivation()\n",
              "          (dropout): Dropout(p=0.1, inplace=False)\n",
              "        )\n",
              "      )\n",
              "      (1): GPT2Block(\n",
              "        (ln_1): LayerNorm((768,), eps=1e-05, elementwise_affine=True)\n",
              "        (attn): GPT2Attention(\n",
              "          (c_attn): Conv1D()\n",
              "          (c_proj): Conv1D()\n",
              "          (attn_dropout): Dropout(p=0.1, inplace=False)\n",
              "          (resid_dropout): Dropout(p=0.1, inplace=False)\n",
              "        )\n",
              "        (ln_2): LayerNorm((768,), eps=1e-05, elementwise_affine=True)\n",
              "        (mlp): GPT2MLP(\n",
              "          (c_fc): Conv1D()\n",
              "          (c_proj): Conv1D()\n",
              "          (act): NewGELUActivation()\n",
              "          (dropout): Dropout(p=0.1, inplace=False)\n",
              "        )\n",
              "      )\n",
              "      (2): GPT2Block(\n",
              "        (ln_1): LayerNorm((768,), eps=1e-05, elementwise_affine=True)\n",
              "        (attn): GPT2Attention(\n",
              "          (c_attn): Conv1D()\n",
              "          (c_proj): Conv1D()\n",
              "          (attn_dropout): Dropout(p=0.1, inplace=False)\n",
              "          (resid_dropout): Dropout(p=0.1, inplace=False)\n",
              "        )\n",
              "        (ln_2): LayerNorm((768,), eps=1e-05, elementwise_affine=True)\n",
              "        (mlp): GPT2MLP(\n",
              "          (c_fc): Conv1D()\n",
              "          (c_proj): Conv1D()\n",
              "          (act): NewGELUActivation()\n",
              "          (dropout): Dropout(p=0.1, inplace=False)\n",
              "        )\n",
              "      )\n",
              "      (3): GPT2Block(\n",
              "        (ln_1): LayerNorm((768,), eps=1e-05, elementwise_affine=True)\n",
              "        (attn): GPT2Attention(\n",
              "          (c_attn): Conv1D()\n",
              "          (c_proj): Conv1D()\n",
              "          (attn_dropout): Dropout(p=0.1, inplace=False)\n",
              "          (resid_dropout): Dropout(p=0.1, inplace=False)\n",
              "        )\n",
              "        (ln_2): LayerNorm((768,), eps=1e-05, elementwise_affine=True)\n",
              "        (mlp): GPT2MLP(\n",
              "          (c_fc): Conv1D()\n",
              "          (c_proj): Conv1D()\n",
              "          (act): NewGELUActivation()\n",
              "          (dropout): Dropout(p=0.1, inplace=False)\n",
              "        )\n",
              "      )\n",
              "      (4): GPT2Block(\n",
              "        (ln_1): LayerNorm((768,), eps=1e-05, elementwise_affine=True)\n",
              "        (attn): GPT2Attention(\n",
              "          (c_attn): Conv1D()\n",
              "          (c_proj): Conv1D()\n",
              "          (attn_dropout): Dropout(p=0.1, inplace=False)\n",
              "          (resid_dropout): Dropout(p=0.1, inplace=False)\n",
              "        )\n",
              "        (ln_2): LayerNorm((768,), eps=1e-05, elementwise_affine=True)\n",
              "        (mlp): GPT2MLP(\n",
              "          (c_fc): Conv1D()\n",
              "          (c_proj): Conv1D()\n",
              "          (act): NewGELUActivation()\n",
              "          (dropout): Dropout(p=0.1, inplace=False)\n",
              "        )\n",
              "      )\n",
              "      (5): GPT2Block(\n",
              "        (ln_1): LayerNorm((768,), eps=1e-05, elementwise_affine=True)\n",
              "        (attn): GPT2Attention(\n",
              "          (c_attn): Conv1D()\n",
              "          (c_proj): Conv1D()\n",
              "          (attn_dropout): Dropout(p=0.1, inplace=False)\n",
              "          (resid_dropout): Dropout(p=0.1, inplace=False)\n",
              "        )\n",
              "        (ln_2): LayerNorm((768,), eps=1e-05, elementwise_affine=True)\n",
              "        (mlp): GPT2MLP(\n",
              "          (c_fc): Conv1D()\n",
              "          (c_proj): Conv1D()\n",
              "          (act): NewGELUActivation()\n",
              "          (dropout): Dropout(p=0.1, inplace=False)\n",
              "        )\n",
              "      )\n",
              "      (6): GPT2Block(\n",
              "        (ln_1): LayerNorm((768,), eps=1e-05, elementwise_affine=True)\n",
              "        (attn): GPT2Attention(\n",
              "          (c_attn): Conv1D()\n",
              "          (c_proj): Conv1D()\n",
              "          (attn_dropout): Dropout(p=0.1, inplace=False)\n",
              "          (resid_dropout): Dropout(p=0.1, inplace=False)\n",
              "        )\n",
              "        (ln_2): LayerNorm((768,), eps=1e-05, elementwise_affine=True)\n",
              "        (mlp): GPT2MLP(\n",
              "          (c_fc): Conv1D()\n",
              "          (c_proj): Conv1D()\n",
              "          (act): NewGELUActivation()\n",
              "          (dropout): Dropout(p=0.1, inplace=False)\n",
              "        )\n",
              "      )\n",
              "      (7): GPT2Block(\n",
              "        (ln_1): LayerNorm((768,), eps=1e-05, elementwise_affine=True)\n",
              "        (attn): GPT2Attention(\n",
              "          (c_attn): Conv1D()\n",
              "          (c_proj): Conv1D()\n",
              "          (attn_dropout): Dropout(p=0.1, inplace=False)\n",
              "          (resid_dropout): Dropout(p=0.1, inplace=False)\n",
              "        )\n",
              "        (ln_2): LayerNorm((768,), eps=1e-05, elementwise_affine=True)\n",
              "        (mlp): GPT2MLP(\n",
              "          (c_fc): Conv1D()\n",
              "          (c_proj): Conv1D()\n",
              "          (act): NewGELUActivation()\n",
              "          (dropout): Dropout(p=0.1, inplace=False)\n",
              "        )\n",
              "      )\n",
              "      (8): GPT2Block(\n",
              "        (ln_1): LayerNorm((768,), eps=1e-05, elementwise_affine=True)\n",
              "        (attn): GPT2Attention(\n",
              "          (c_attn): Conv1D()\n",
              "          (c_proj): Conv1D()\n",
              "          (attn_dropout): Dropout(p=0.1, inplace=False)\n",
              "          (resid_dropout): Dropout(p=0.1, inplace=False)\n",
              "        )\n",
              "        (ln_2): LayerNorm((768,), eps=1e-05, elementwise_affine=True)\n",
              "        (mlp): GPT2MLP(\n",
              "          (c_fc): Conv1D()\n",
              "          (c_proj): Conv1D()\n",
              "          (act): NewGELUActivation()\n",
              "          (dropout): Dropout(p=0.1, inplace=False)\n",
              "        )\n",
              "      )\n",
              "      (9): GPT2Block(\n",
              "        (ln_1): LayerNorm((768,), eps=1e-05, elementwise_affine=True)\n",
              "        (attn): GPT2Attention(\n",
              "          (c_attn): Conv1D()\n",
              "          (c_proj): Conv1D()\n",
              "          (attn_dropout): Dropout(p=0.1, inplace=False)\n",
              "          (resid_dropout): Dropout(p=0.1, inplace=False)\n",
              "        )\n",
              "        (ln_2): LayerNorm((768,), eps=1e-05, elementwise_affine=True)\n",
              "        (mlp): GPT2MLP(\n",
              "          (c_fc): Conv1D()\n",
              "          (c_proj): Conv1D()\n",
              "          (act): NewGELUActivation()\n",
              "          (dropout): Dropout(p=0.1, inplace=False)\n",
              "        )\n",
              "      )\n",
              "      (10): GPT2Block(\n",
              "        (ln_1): LayerNorm((768,), eps=1e-05, elementwise_affine=True)\n",
              "        (attn): GPT2Attention(\n",
              "          (c_attn): Conv1D()\n",
              "          (c_proj): Conv1D()\n",
              "          (attn_dropout): Dropout(p=0.1, inplace=False)\n",
              "          (resid_dropout): Dropout(p=0.1, inplace=False)\n",
              "        )\n",
              "        (ln_2): LayerNorm((768,), eps=1e-05, elementwise_affine=True)\n",
              "        (mlp): GPT2MLP(\n",
              "          (c_fc): Conv1D()\n",
              "          (c_proj): Conv1D()\n",
              "          (act): NewGELUActivation()\n",
              "          (dropout): Dropout(p=0.1, inplace=False)\n",
              "        )\n",
              "      )\n",
              "      (11): GPT2Block(\n",
              "        (ln_1): LayerNorm((768,), eps=1e-05, elementwise_affine=True)\n",
              "        (attn): GPT2Attention(\n",
              "          (c_attn): Conv1D()\n",
              "          (c_proj): Conv1D()\n",
              "          (attn_dropout): Dropout(p=0.1, inplace=False)\n",
              "          (resid_dropout): Dropout(p=0.1, inplace=False)\n",
              "        )\n",
              "        (ln_2): LayerNorm((768,), eps=1e-05, elementwise_affine=True)\n",
              "        (mlp): GPT2MLP(\n",
              "          (c_fc): Conv1D()\n",
              "          (c_proj): Conv1D()\n",
              "          (act): NewGELUActivation()\n",
              "          (dropout): Dropout(p=0.1, inplace=False)\n",
              "        )\n",
              "      )\n",
              "    )\n",
              "    (ln_f): LayerNorm((768,), eps=1e-05, elementwise_affine=True)\n",
              "  )\n",
              "  (lm_head): Linear(in_features=768, out_features=50257, bias=False)\n",
              ")"
            ]
          },
          "metadata": {},
          "execution_count": 100
        }
      ]
    }
  ],
  "metadata": {
    "colab": {
      "provenance": []
    },
    "kernelspec": {
      "display_name": "Python 3.9.5 64-bit",
      "language": "python",
      "name": "python3"
    },
    "language_info": {
      "codemirror_mode": {
        "name": "ipython",
        "version": 3
      },
      "file_extension": ".py",
      "mimetype": "text/x-python",
      "name": "python",
      "nbconvert_exporter": "python",
      "pygments_lexer": "ipython3",
      "version": "3.9.5"
    },
    "orig_nbformat": 4,
    "vscode": {
      "interpreter": {
        "hash": "fc9d5badb4efca54614a2b6fa3f07093d42c8c440946190a369e2bde82b5bec5"
      }
    }
  },
  "nbformat": 4,
  "nbformat_minor": 0
}